{
 "cells": [
  {
   "cell_type": "code",
   "execution_count": 36,
   "id": "3747e6c5-5662-4e30-8b77-55533630c7bf",
   "metadata": {
    "tags": []
   },
   "outputs": [],
   "source": [
    "import pandas as pd"
   ]
  },
  {
   "cell_type": "code",
   "execution_count": 37,
   "id": "a3596e23-cb70-4610-872a-f69d1da163d1",
   "metadata": {
    "tags": []
   },
   "outputs": [],
   "source": [
    "july_fileT = \"ThonglorSalesJuly2023.csv\"\n",
    "august_fileT = \"ThonglorSalesAugust2023.csv\"\n",
    "sep_fileT = \"ThonglorSalesSeptember2023.csv\"\n",
    "\n",
    "df_julyt = pd.read_csv(july_fileT)\n",
    "df_augustt = pd.read_csv(august_fileT)\n",
    "df_sept = pd.read_csv(sep_fileT)"
   ]
  },
  {
   "cell_type": "code",
   "execution_count": 38,
   "id": "8296b1a2-3513-4a0e-b0bd-e9d754b2086b",
   "metadata": {
    "tags": []
   },
   "outputs": [],
   "source": [
    "july_fileS = \"SukhumvitSalesJuly2023.csv\"\n",
    "august_fileS = \"SukhumvitSalesAugust2023.csv\"\n",
    "sep_fileS = \"SukhumvitSalesSeptember2023.csv\"\n",
    "\n",
    "df_julys = pd.read_csv(july_fileS)\n",
    "df_augusts = pd.read_csv(august_fileS)\n",
    "df_seps = pd.read_csv(sep_fileS)"
   ]
  },
  {
   "cell_type": "code",
   "execution_count": 39,
   "id": "0834c704-d647-4b51-9d04-9314201fe5aa",
   "metadata": {
    "tags": []
   },
   "outputs": [],
   "source": [
    "july_file = \"PrompongSalesJuly2023.csv\"\n",
    "august_file = \"PrompongSalesAugust2023.csv\"\n",
    "sep_file = \"PrompongSalesSeptember2023.csv\"\n",
    "\n",
    "df_julyp = pd.read_csv(july_file)\n",
    "df_augustp = pd.read_csv(august_file)\n",
    "df_sepp = pd.read_csv(sep_file)"
   ]
  },
  {
   "cell_type": "code",
   "execution_count": 40,
   "id": "9254d494-3264-4bd1-82f7-3462a08a4b62",
   "metadata": {
    "tags": []
   },
   "outputs": [],
   "source": [
    "data_frames = [df_julyp, df_augustp, df_sepp, df_julys, df_augusts, df_seps, df_julyt, df_augustt, df_sept]\n"
   ]
  },
  {
   "cell_type": "code",
   "execution_count": 41,
   "id": "5211a925-c22c-404e-97a3-abcfe57aeacf",
   "metadata": {
    "tags": []
   },
   "outputs": [
    {
     "data": {
      "text/plain": [
       "Index(['Date', 'Pat Cust', 'Pat Sales', 'Aom Cust', 'Aom Sales', 'Da Cust',\n",
       "       'Da Sales', 'Fon Cust', 'Fon Sales', 'Nun Cust', 'Nun Sales',\n",
       "       'Fhar Cust', 'Fhar Sales', 'Total Cust', 'Total Sales',\n",
       "       'Voucher Amount', 'TIP', 'Total Cash Amount', 'TF Doc', 'Sales Doc',\n",
       "       'TF Date', 'In Charged', 'Book Bank Checked', 'เว้นไว้'],\n",
       "      dtype='object')"
      ]
     },
     "execution_count": 41,
     "metadata": {},
     "output_type": "execute_result"
    }
   ],
   "source": [
    " df_augustp.columns"
   ]
  },
  {
   "cell_type": "code",
   "execution_count": 8,
   "id": "c90eba98-2a0a-4651-b7c9-2aacba2bcff9",
   "metadata": {
    "tags": []
   },
   "outputs": [
    {
     "name": "stdout",
     "output_type": "stream",
     "text": [
      "Total Sales across all data frames: 2724185.00\n"
     ]
    }
   ],
   "source": [
    "# List of data frames\n",
    "data_frames = [df_julyp, df_augustp, df_sepp, df_julys, df_augusts, df_seps, df_julyt, df_augustt, df_sept]\n",
    "\n",
    "# Initialize a variable to store the total sales\n",
    "total_sales = 0\n",
    "\n",
    "# Iterate through the data frames and sum the 'Total Sales' column\n",
    "for df in data_frames:\n",
    "    total_sales += df['Total Sales'].sum()\n",
    "\n",
    "# Display the total sales\n",
    "print(f\"Total Sales across all data frames: {total_sales:.2f}\")\n"
   ]
  },
  {
   "cell_type": "markdown",
   "id": "11109169-2a06-4898-aa0d-848c05c5f501",
   "metadata": {},
   "source": [
    "## Random Forest Regressor"
   ]
  },
  {
   "cell_type": "code",
   "execution_count": 47,
   "id": "08a628ef-0171-4f28-885f-52299ba1d1f5",
   "metadata": {
    "tags": []
   },
   "outputs": [
    {
     "name": "stdout",
     "output_type": "stream",
     "text": [
      "Total Predicted Total Sales Across All Data Frames: 2723521.00\n"
     ]
    }
   ],
   "source": [
    "import warnings\n",
    "from sklearn.ensemble import RandomForestRegressor\n",
    "\n",
    "# Suppress warnings\n",
    "warnings.filterwarnings(\"ignore\", category=FutureWarning)\n",
    "warnings.filterwarnings(\"ignore\", category=DeprecationWarning)\n",
    "\n",
    "# List of columns that are common to all your data frames\n",
    "common_columns = ['Date', 'Total Sales']\n",
    "\n",
    "# Initialize a list to store the data frames with predicted 'Total Sales'\n",
    "predictions = []\n",
    "\n",
    "# Create a RandomForestRegressor model\n",
    "model = RandomForestRegressor(random_state=42)\n",
    "\n",
    "# Iterate through your data frames\n",
    "for df in data_frames:\n",
    "    # Define independent variable (X) and dependent variable (Y)\n",
    "    X = df[['Total Sales']]\n",
    "    Y = df['Total Sales']\n",
    "\n",
    "    # Fit the model to the entire data frame\n",
    "    model.fit(X, Y)\n",
    "\n",
    "    # Predict 'Total Sales' for the entire data frame\n",
    "    Y_pred = model.predict(X)\n",
    "\n",
    "    # Create a new data frame for predictions\n",
    "    df_pred = df.copy()\n",
    "    df_pred['Predicted Total Sales'] = Y_pred\n",
    "\n",
    "    # Append the data frame with predictions to the list\n",
    "    predictions.append(df_pred)\n",
    "\n",
    "# Initialize a variable to store the sum of predicted Total Sales\n",
    "total_predicted_sales = 0\n",
    "\n",
    "# Iterate through the data frames in predictions\n",
    "for df in predictions:\n",
    "    total_predicted_sales += df['Predicted Total Sales'].sum()\n",
    "\n",
    "print(f\"Total Predicted Total Sales Across All Data Frames: {total_predicted_sales:.2f}\")\n"
   ]
  },
  {
   "cell_type": "code",
   "execution_count": 43,
   "id": "c85df460-dd67-4208-8f14-37016036fb59",
   "metadata": {
    "tags": []
   },
   "outputs": [],
   "source": [
    "from sklearn.model_selection import train_test_split\n",
    "\n",
    "warnings.filterwarnings(\"ignore\", category=FutureWarning)\n",
    "warnings.filterwarnings(\"ignore\", category=DeprecationWarning)\n",
    "\n",
    "# Iterate through your data frames\n",
    "for df in data_frames:\n",
    "    # Define independent variable (X) and dependent variable (Y)\n",
    "    X = df[['Total Sales']]\n",
    "    Y = df['Total Sales']\n",
    "    \n",
    "    # Split the data into training and testing sets\n",
    "    X_train, X_test, Y_train, Y_test = train_test_split(X, Y, test_size=0.2, random_state=42)\n",
    "    \n",
    "    # Fit the model to the training data\n",
    "    model.fit(X_train, Y_train)\n",
    "    \n",
    "    # Predict 'Total Sales' for the testing set\n",
    "    Y_pred = model.predict(X_test)\n",
    "    \n",
    "    # Create a new data frame for predictions\n",
    "    df_pred = pd.DataFrame({'Total Sales': Y_test, 'Predicted Total Sales': Y_pred})\n",
    "    \n",
    "    # Append the data frame with predictions to the list\n",
    "    predictions.append(df_pred)\n"
   ]
  },
  {
   "cell_type": "code",
   "execution_count": 44,
   "id": "97f5d244-6964-4359-9eb7-0f1b66f99a9d",
   "metadata": {
    "tags": []
   },
   "outputs": [
    {
     "name": "stdout",
     "output_type": "stream",
     "text": [
      "R-squared score for this data frame: 0.9956798507770537\n",
      "R-squared score for this data frame: 0.9836733864436763\n",
      "R-squared score for this data frame: 0.9758954393526256\n",
      "R-squared score for this data frame: 0.9074402678864033\n",
      "R-squared score for this data frame: 0.9973927220703586\n",
      "R-squared score for this data frame: 0.6337781091016279\n",
      "R-squared score for this data frame: 0.975985696980135\n",
      "R-squared score for this data frame: 0.9255587424553611\n",
      "R-squared score for this data frame: 0.9866821697567725\n"
     ]
    }
   ],
   "source": [
    "from sklearn.metrics import r2_score\n",
    "\n",
    "warnings.filterwarnings(\"ignore\", category=FutureWarning)\n",
    "warnings.filterwarnings(\"ignore\", category=DeprecationWarning)\n",
    "\n",
    "\n",
    "# Iterate through your data frames\n",
    "for df in data_frames:\n",
    "    # Define independent variable (X) and dependent variable (Y)\n",
    "    X = df[['Total Sales']]\n",
    "    Y = df['Total Sales']\n",
    "    \n",
    "    # Split the data into training and testing sets\n",
    "    X_train, X_test, Y_train, Y_test = train_test_split(X, Y, test_size=0.2, random_state=42)\n",
    "    \n",
    "    # Fit the model to the training data\n",
    "    model.fit(X_train, Y_train)\n",
    "    \n",
    "    # Predict 'Total Sales' for the testing set\n",
    "    Y_pred = model.predict(X_test)\n",
    "    \n",
    "    # Calculate R-squared score\n",
    "    r2 = r2_score(Y_test, Y_pred)\n",
    "    \n",
    "    # Create a new data frame for predictions\n",
    "    df_pred = pd.DataFrame({'Total Sales': Y_test, 'Predicted Total Sales': Y_pred})\n",
    "    \n",
    "    # Append the data frame with predictions to the list\n",
    "    predictions.append(df_pred)\n",
    "    \n",
    "    # Print the R-squared score\n",
    "    print(f\"R-squared score for this data frame: {r2}\")\n"
   ]
  },
  {
   "cell_type": "markdown",
   "id": "40bb79e4-d48e-4fd4-9c2b-176ef2abd38c",
   "metadata": {},
   "source": [
    "## Model Accuracy"
   ]
  },
  {
   "cell_type": "code",
   "execution_count": 21,
   "id": "f9995fe5-6fae-4f56-af2c-588eeaba16e3",
   "metadata": {
    "tags": []
   },
   "outputs": [
    {
     "name": "stdout",
     "output_type": "stream",
     "text": [
      "Average MAE: 212.63\n",
      "Average MSE: 174104.56\n",
      "Average R-squared (R^2): 0.95\n"
     ]
    }
   ],
   "source": [
    "from sklearn.metrics import mean_absolute_error, mean_squared_error, r2_score\n",
    "\n",
    "# Initialize lists to store evaluation results for each data frame\n",
    "mae_scores = []\n",
    "mse_scores = []\n",
    "r2_scores = []\n",
    "\n",
    "# Iterate through the data frames with predictions\n",
    "for df in predictions:\n",
    "    Y_true = df['Total Sales']\n",
    "    Y_pred = df['Predicted Total Sales']\n",
    "\n",
    "    # Calculate Mean Absolute Error (MAE)\n",
    "    mae = mean_absolute_error(Y_true, Y_pred)\n",
    "    mae_scores.append(mae)\n",
    "\n",
    "    # Calculate Mean Squared Error (MSE)\n",
    "    mse = mean_squared_error(Y_true, Y_pred)\n",
    "    mse_scores.append(mse)\n",
    "\n",
    "    # Calculate R-squared (R^2)\n",
    "    r2 = r2_score(Y_true, Y_pred)\n",
    "    r2_scores.append(r2)\n",
    "\n",
    "# Calculate the average scores across all data frames\n",
    "average_mae = sum(mae_scores) / len(mae_scores)\n",
    "average_mse = sum(mse_scores) / len(mse_scores)\n",
    "average_r2 = sum(r2_scores) / len(r2_scores)\n",
    "\n",
    "print(f\"Average MAE: {average_mae:.2f}\")\n",
    "print(f\"Average MSE: {average_mse:.2f}\")\n",
    "print(f\"Average R-squared (R^2): {average_r2:.2f}\")\n"
   ]
  },
  {
   "cell_type": "code",
   "execution_count": 45,
   "id": "89435769-1c52-4919-b82a-b4e987c4f632",
   "metadata": {
    "tags": []
   },
   "outputs": [
    {
     "name": "stdout",
     "output_type": "stream",
     "text": [
      "Average Actual Total Sales Across All Data Frames: 302687.22\n",
      "Average Predicted Total Sales Across All Data Frames: 302613.44\n"
     ]
    }
   ],
   "source": [
    "import pandas as pd\n",
    "from sklearn.ensemble import RandomForestRegressor\n",
    "\n",
    "warnings.filterwarnings(\"ignore\", category=FutureWarning)\n",
    "warnings.filterwarnings(\"ignore\", category=DeprecationWarning)\n",
    "\n",
    "\n",
    "# List of columns that are common to all your data frames\n",
    "common_columns = ['Date', 'Total Sales']\n",
    "\n",
    "# Initialize a list to store the data frames with predicted 'Total Sales'\n",
    "predictions = []\n",
    "\n",
    "# Create a RandomForestRegressor model\n",
    "model = RandomForestRegressor(random_state=42)\n",
    "\n",
    "# Initialize variables to store the sum of predicted Total Sales and actual Total Sales\n",
    "total_predicted_sales = 0\n",
    "total_actual_sales = 0\n",
    "\n",
    "# Iterate through your data frames\n",
    "for df in data_frames:\n",
    "    # Define independent variable (X) and dependent variable (Y)\n",
    "    X = df[['Total Sales']]\n",
    "    Y = df['Total Sales']\n",
    "\n",
    "    # Fit the model to the entire data frame\n",
    "    model.fit(X, Y)\n",
    "\n",
    "    # Predict 'Total Sales' for the entire data frame\n",
    "    Y_pred = model.predict(X)\n",
    "\n",
    "    # Create a new data frame for predictions\n",
    "    df_pred = df.copy()\n",
    "    df_pred['Predicted Total Sales'] = Y_pred\n",
    "\n",
    "    # Append the data frame with predictions to the list\n",
    "    predictions.append(df_pred)\n",
    "\n",
    "    # Calculate the sum of actual Total Sales\n",
    "    total_actual_sales += df['Total Sales'].sum()\n",
    "\n",
    "# Calculate the sum of predicted Total Sales\n",
    "for df in predictions:\n",
    "    total_predicted_sales += df['Predicted Total Sales'].sum()\n",
    "\n",
    "# Calculate the average of actual Total Sales and predicted Total Sales\n",
    "average_actual_sales = total_actual_sales / len(data_frames)\n",
    "average_predicted_sales = total_predicted_sales / len(predictions)\n",
    "\n",
    "print(f\"Average Actual Total Sales Across All Data Frames: {average_actual_sales:.2f}\")\n",
    "print(f\"Average Predicted Total Sales Across All Data Frames: {average_predicted_sales:.2f}\")\n"
   ]
  },
  {
   "cell_type": "markdown",
   "id": "f4f89c12-4f2f-412f-b8f8-aec1ed2bbbdb",
   "metadata": {},
   "source": [
    "## Highest 5 dates across all 3 branches "
   ]
  },
  {
   "cell_type": "code",
   "execution_count": 8,
   "id": "58a5ea6b-b67b-4a34-b4f9-65c68ab52368",
   "metadata": {
    "tags": []
   },
   "outputs": [
    {
     "data": {
      "text/plain": [
       "19      July 20, 2023\n",
       "22    August 23, 2023\n",
       "10    August 11, 2023\n",
       "20      July 21, 2023\n",
       "29    August 30, 2023\n",
       "Name: Date, dtype: object"
      ]
     },
     "execution_count": 8,
     "metadata": {},
     "output_type": "execute_result"
    }
   ],
   "source": [
    "import pandas as pd\n",
    "\n",
    "# Concatenate the dataframes\n",
    "data_frames = [df_julyp, df_augustp, df_sepp, df_julys, df_augusts, df_seps, df_julyt, df_augustt, df_sept]\n",
    "combined_df = pd.concat(data_frames)\n",
    "\n",
    "# Sort the dataframe by total sales in descending order\n",
    "sorted_df = combined_df.sort_values(by='Total Sales', ascending=False)\n",
    "\n",
    "# Get the first 5 dates with the highest total sales\n",
    "top_5_dates = sorted_df['Date'].head(5)\n",
    "\n",
    "# Display the top 5 dates\n",
    "top_5_dates\n"
   ]
  },
  {
   "cell_type": "markdown",
   "id": "6d6a6a27-1b3b-496f-baf2-c6f08e9f230e",
   "metadata": {},
   "source": [
    "## Bottom 5 dates across all 3 branches "
   ]
  },
  {
   "cell_type": "code",
   "execution_count": 13,
   "id": "499ffad8-8dab-43ca-8480-b09f7d221153",
   "metadata": {
    "tags": []
   },
   "outputs": [
    {
     "name": "stdout",
     "output_type": "stream",
     "text": [
      "11    September 12, 2023\n",
      "23    September 24, 2023\n",
      "19       August 20, 2023\n",
      "15         July 16, 2023\n",
      "22         July 23, 2023\n",
      "Name: Date, dtype: object\n"
     ]
    }
   ],
   "source": [
    "import pandas as pd\n",
    "\n",
    "# Concatenate the dataframes\n",
    "data_frames = [df_julyp, df_augustp, df_sepp, df_julys, df_augusts, df_seps, df_julyt, df_augustt, df_sept]\n",
    "combined_df = pd.concat(data_frames)\n",
    "\n",
    "# Sort the dataframe by total sales in ascending order\n",
    "sorted_df = combined_df.sort_values(by='Total Sales')\n",
    "\n",
    "# Get the first 5 dates with the lowest total sales\n",
    "bottom_5_dates = sorted_df['Date'].head(5)\n",
    "\n",
    "# Display the bottom 5 dates\n",
    "print(bottom_5_dates)\n"
   ]
  },
  {
   "cell_type": "markdown",
   "id": "5bdfa685-f0bf-431f-8787-be3e9a69157d",
   "metadata": {},
   "source": [
    "## Scatter plot show relationship between day and total sale of the day across 3 months from all branches"
   ]
  },
  {
   "cell_type": "code",
   "execution_count": 46,
   "id": "4548ecd3-c1f3-4e47-b6e0-7a1496095eb6",
   "metadata": {
    "tags": []
   },
   "outputs": [
    {
     "name": "stderr",
     "output_type": "stream",
     "text": [
      "/home/jupyterlab/conda/envs/python/lib/python3.7/site-packages/ipykernel_launcher.py:16: SettingWithCopyWarning: \n",
      "A value is trying to be set on a copy of a slice from a DataFrame.\n",
      "Try using .loc[row_indexer,col_indexer] = value instead\n",
      "\n",
      "See the caveats in the documentation: https://pandas.pydata.org/pandas-docs/stable/user_guide/indexing.html#returning-a-view-versus-a-copy\n",
      "  \n",
      "/home/jupyterlab/conda/envs/python/lib/python3.7/site-packages/ipykernel_launcher.py:21: SettingWithCopyWarning: \n",
      "A value is trying to be set on a copy of a slice from a DataFrame.\n",
      "Try using .loc[row_indexer,col_indexer] = value instead\n",
      "\n",
      "See the caveats in the documentation: https://pandas.pydata.org/pandas-docs/stable/user_guide/indexing.html#returning-a-view-versus-a-copy\n"
     ]
    },
    {
     "data": {
      "image/png": "[encoded data removed]",
      "text/plain": [
       "<Figure size 1000x600 with 1 Axes>"
      ]
     },
     "metadata": {},
     "output_type": "display_data"
    }
   ],
   "source": [
    "import pandas as pd\n",
    "import matplotlib.pyplot as plt\n",
    "\n",
    "# Concatenate the dataframes\n",
    "data_frames = [df_julyp, df_augustp, df_sepp, df_julys, df_augusts, df_seps, df_julyt, df_augustt, df_sept]\n",
    "combined_df = pd.concat(data_frames)\n",
    "\n",
    "# Convert the 'Date' column to datetime type\n",
    "combined_df['Date'] = pd.to_datetime(combined_df['Date'])\n",
    "\n",
    "# Create a scatter plot to differentiate total sales\n",
    "plt.figure(figsize=(10, 6))\n",
    "\n",
    "# Filter data for sales below 30,000\n",
    "below_10000 = combined_df[combined_df['Total Sales'] < 10000]\n",
    "below_10000['Day'] = below_10000['Date'].dt.day  # Extract the day of the month\n",
    "plt.scatter(below_10000['Day'], below_10000['Total Sales'], label='Sales Below 10,000', color='blue')\n",
    "\n",
    "# Filter data for sales exceeding 30,000\n",
    "exceed_15000 = combined_df[combined_df['Total Sales'] > 15000]\n",
    "exceed_15000['Day'] = exceed_15000['Date'].dt.day  # Extract the day of the month\n",
    "plt.scatter(exceed_15000['Day'], exceed_15000['Total Sales'], label='Sales Exceeding 15,000', color='red')\n",
    "\n",
    "plt.xlabel('Day of the Month')\n",
    "plt.ylabel('Total Sales')\n",
    "plt.title('All branches:Scatter Plot of Total Sales')\n",
    "plt.legend()\n",
    "plt.grid(True)\n",
    "\n",
    "# Display the plot\n",
    "plt.show()"
   ]
  },
  {
   "cell_type": "markdown",
   "id": "6f2f0026-14d4-464f-bb8c-3c73fab6c004",
   "metadata": {},
   "source": [
    "## Sales per branch per day:\n",
    "\n",
    "### Days 1-5: Sales per branch range from 6,000 to 10,000 Baht. Some branches have the opportunity to exceed 15,000, especially around day 3.\n",
    "### Days 6-10: Sales per branch range from 6,000 to 10,000 Baht. Some branches have the opportunity to exceed 15,000, especially around day 9.\n",
    "### Days 11-15: Sales per branch range from 6,000 to 10,000 Baht. Some branches experience a significant drop, going below 4,000 Baht.Some branches have the opportunity to exceed 15,000, especially around day 11.\n",
    "### Days 16-19: Sales per branch range from 5,000 to 9,000 Baht. No branch exceeds 15,000 in sales during this period.\n",
    "### Days 20-25: Sales per branch range from 4,000 to 10,000 Baht. Some branches have the opportunity to exceed 15,000.\n",
    "### Days 26-30: Sales per branch range from 6,000 to 10,000 Baht. Some branches have the opportunity to exceed 15,000, particularly on day 30.\"\n",
    "\n",
    "\n",
    "\n",
    "\n"
   ]
  },
  {
   "cell_type": "code",
   "execution_count": null,
   "id": "f77b66ce-71ba-4789-934d-7e334d71414f",
   "metadata": {},
   "outputs": [],
   "source": [
    "data_frames = [df_julyp, df_augustp, df_sepp, df_julys, df_augusts, df_seps, df_julyt, df_augustt, df_sept]\n"
   ]
  },
  {
   "cell_type": "code",
   "execution_count": 21,
   "id": "624e8efd-6bb5-4635-aebb-7d08a1240f37",
   "metadata": {
    "tags": []
   },
   "outputs": [],
   "source": [
    "data_frames = [df_julyp, df_augustp, df_sepp, df_julys, df_augusts, df_seps, df_julyt, df_augustt, df_sept]\n",
    "\n",
    "# Loop through each DataFrame and convert the 'Date' column to datetime\n",
    "for df in data_frames:\n",
    "    df['Date'] = pd.to_datetime(df['Date'])"
   ]
  },
  {
   "cell_type": "code",
   "execution_count": 22,
   "id": "b21cd7db-9c89-4302-9ddd-c6852286d416",
   "metadata": {
    "tags": []
   },
   "outputs": [
    {
     "data": {
      "text/html": [
       "<div>\n",
       "<style scoped>\n",
       "    .dataframe tbody tr th:only-of-type {\n",
       "        vertical-align: middle;\n",
       "    }\n",
       "\n",
       "    .dataframe tbody tr th {\n",
       "        vertical-align: top;\n",
       "    }\n",
       "\n",
       "    .dataframe thead th {\n",
       "        text-align: right;\n",
       "    }\n",
       "</style>\n",
       "<table border=\"1\" class=\"dataframe\">\n",
       "  <thead>\n",
       "    <tr style=\"text-align: right;\">\n",
       "      <th></th>\n",
       "      <th>Date</th>\n",
       "      <th>Pat Cust</th>\n",
       "      <th>Pat Sales</th>\n",
       "      <th>Aom Cust</th>\n",
       "      <th>Aom Sales</th>\n",
       "      <th>Da Cust</th>\n",
       "      <th>Da Sales</th>\n",
       "      <th>Fon Cust</th>\n",
       "      <th>Fon Sales</th>\n",
       "      <th>Nun Cust</th>\n",
       "      <th>...</th>\n",
       "      <th>Total Sales</th>\n",
       "      <th>Voucher Amount</th>\n",
       "      <th>TIP</th>\n",
       "      <th>Total Cash Amount</th>\n",
       "      <th>TF Doc</th>\n",
       "      <th>Sales Doc</th>\n",
       "      <th>TF Date</th>\n",
       "      <th>In Charged</th>\n",
       "      <th>Book Bank Checked</th>\n",
       "      <th>เว้นไว้</th>\n",
       "    </tr>\n",
       "  </thead>\n",
       "  <tbody>\n",
       "    <tr>\n",
       "      <th>0</th>\n",
       "      <td>2023-08-01</td>\n",
       "      <td>7</td>\n",
       "      <td>1700</td>\n",
       "      <td>8</td>\n",
       "      <td>2990</td>\n",
       "      <td>7</td>\n",
       "      <td>2400</td>\n",
       "      <td>5</td>\n",
       "      <td>2570</td>\n",
       "      <td>0</td>\n",
       "      <td>...</td>\n",
       "      <td>9660</td>\n",
       "      <td>250.0</td>\n",
       "      <td>0.0</td>\n",
       "      <td>9410.0</td>\n",
       "      <td>NaN</td>\n",
       "      <td>NaN</td>\n",
       "      <td>NaN</td>\n",
       "      <td>NaN</td>\n",
       "      <td>No</td>\n",
       "      <td>NaN</td>\n",
       "    </tr>\n",
       "    <tr>\n",
       "      <th>1</th>\n",
       "      <td>2023-08-02</td>\n",
       "      <td>8</td>\n",
       "      <td>2700</td>\n",
       "      <td>7</td>\n",
       "      <td>3470</td>\n",
       "      <td>7</td>\n",
       "      <td>2330</td>\n",
       "      <td>6</td>\n",
       "      <td>1970</td>\n",
       "      <td>0</td>\n",
       "      <td>...</td>\n",
       "      <td>10470</td>\n",
       "      <td>0.0</td>\n",
       "      <td>0.0</td>\n",
       "      <td>10470.0</td>\n",
       "      <td>NaN</td>\n",
       "      <td>NaN</td>\n",
       "      <td>NaN</td>\n",
       "      <td>NaN</td>\n",
       "      <td>No</td>\n",
       "      <td>NaN</td>\n",
       "    </tr>\n",
       "    <tr>\n",
       "      <th>2</th>\n",
       "      <td>2023-08-03</td>\n",
       "      <td>9</td>\n",
       "      <td>3030</td>\n",
       "      <td>9</td>\n",
       "      <td>3990</td>\n",
       "      <td>8</td>\n",
       "      <td>2950</td>\n",
       "      <td>7</td>\n",
       "      <td>2390</td>\n",
       "      <td>0</td>\n",
       "      <td>...</td>\n",
       "      <td>12360</td>\n",
       "      <td>0.0</td>\n",
       "      <td>0.0</td>\n",
       "      <td>12360.0</td>\n",
       "      <td>NaN</td>\n",
       "      <td>NaN</td>\n",
       "      <td>NaN</td>\n",
       "      <td>NaN</td>\n",
       "      <td>No</td>\n",
       "      <td>NaN</td>\n",
       "    </tr>\n",
       "    <tr>\n",
       "      <th>3</th>\n",
       "      <td>2023-08-04</td>\n",
       "      <td>7</td>\n",
       "      <td>2400</td>\n",
       "      <td>7</td>\n",
       "      <td>2040</td>\n",
       "      <td>7</td>\n",
       "      <td>2050</td>\n",
       "      <td>4</td>\n",
       "      <td>1600</td>\n",
       "      <td>0</td>\n",
       "      <td>...</td>\n",
       "      <td>8090</td>\n",
       "      <td>0.0</td>\n",
       "      <td>0.0</td>\n",
       "      <td>8090.0</td>\n",
       "      <td>NaN</td>\n",
       "      <td>NaN</td>\n",
       "      <td>NaN</td>\n",
       "      <td>NaN</td>\n",
       "      <td>No</td>\n",
       "      <td>NaN</td>\n",
       "    </tr>\n",
       "    <tr>\n",
       "      <th>4</th>\n",
       "      <td>2023-08-05</td>\n",
       "      <td>8</td>\n",
       "      <td>2980</td>\n",
       "      <td>11</td>\n",
       "      <td>4930</td>\n",
       "      <td>9</td>\n",
       "      <td>3310</td>\n",
       "      <td>6</td>\n",
       "      <td>3200</td>\n",
       "      <td>0</td>\n",
       "      <td>...</td>\n",
       "      <td>14420</td>\n",
       "      <td>0.0</td>\n",
       "      <td>0.0</td>\n",
       "      <td>14420.0</td>\n",
       "      <td>NaN</td>\n",
       "      <td>NaN</td>\n",
       "      <td>NaN</td>\n",
       "      <td>NaN</td>\n",
       "      <td>No</td>\n",
       "      <td>NaN</td>\n",
       "    </tr>\n",
       "  </tbody>\n",
       "</table>\n",
       "<p>5 rows × 24 columns</p>\n",
       "</div>"
      ],
      "text/plain": [
       "        Date  Pat Cust  Pat Sales  Aom Cust  Aom Sales  Da Cust  Da Sales  \\\n",
       "0 2023-08-01         7       1700         8       2990        7      2400   \n",
       "1 2023-08-02         8       2700         7       3470        7      2330   \n",
       "2 2023-08-03         9       3030         9       3990        8      2950   \n",
       "3 2023-08-04         7       2400         7       2040        7      2050   \n",
       "4 2023-08-05         8       2980        11       4930        9      3310   \n",
       "\n",
       "   Fon Cust  Fon Sales  Nun Cust  ...  Total Sales  Voucher Amount  TIP  \\\n",
       "0         5       2570         0  ...         9660           250.0  0.0   \n",
       "1         6       1970         0  ...        10470             0.0  0.0   \n",
       "2         7       2390         0  ...        12360             0.0  0.0   \n",
       "3         4       1600         0  ...         8090             0.0  0.0   \n",
       "4         6       3200         0  ...        14420             0.0  0.0   \n",
       "\n",
       "   Total Cash Amount  TF Doc  Sales Doc  TF Date  In Charged  \\\n",
       "0             9410.0     NaN        NaN      NaN         NaN   \n",
       "1            10470.0     NaN        NaN      NaN         NaN   \n",
       "2            12360.0     NaN        NaN      NaN         NaN   \n",
       "3             8090.0     NaN        NaN      NaN         NaN   \n",
       "4            14420.0     NaN        NaN      NaN         NaN   \n",
       "\n",
       "   Book Bank Checked  เว้นไว้  \n",
       "0                 No      NaN  \n",
       "1                 No      NaN  \n",
       "2                 No      NaN  \n",
       "3                 No      NaN  \n",
       "4                 No      NaN  \n",
       "\n",
       "[5 rows x 24 columns]"
      ]
     },
     "execution_count": 22,
     "metadata": {},
     "output_type": "execute_result"
    }
   ],
   "source": [
    "df_augustp.head()"
   ]
  },
  {
   "cell_type": "code",
   "execution_count": 25,
   "id": "d19d5b44-1b99-4589-aa0b-d75bf5a5ed0b",
   "metadata": {
    "tags": []
   },
   "outputs": [],
   "source": [
    "dfprompong = [df_julyp, df_augustp, df_sepp]\n",
    "dfsukhumvit = [df_julys, df_augusts, df_seps]\n",
    "dfthonglor = [df_julyt, df_augustt, df_sept] "
   ]
  },
  {
   "cell_type": "code",
   "execution_count": 30,
   "id": "b0b1d0a1-5e4a-4add-aff5-64bf415df80b",
   "metadata": {
    "tags": []
   },
   "outputs": [
    {
     "data": {
      "image/png": "[encoded data removed]",
      "text/plain": [
       "<Figure size 600x500 with 1 Axes>"
      ]
     },
     "metadata": {},
     "output_type": "display_data"
    }
   ],
   "source": [
    "import pandas as pd\n",
    "import seaborn as sns\n",
    "import matplotlib.pyplot as plt\n",
    "\n",
    "dfprompong = [df_julyp, df_augustp, df_sepp]\n",
    "dfsukhumvit = [df_julys, df_augusts, df_seps]\n",
    "dfthonglor = [df_julyt, df_augustt, df_sept]\n",
    "\n",
    "# Combine data frames for each branch\n",
    "dfprompong_combined = pd.concat(dfprompong)\n",
    "dfsukhumvit_combined = pd.concat(dfsukhumvit)\n",
    "dfthonglor_combined = pd.concat(dfthonglor)\n",
    "\n",
    "# Sum the total sales for each branch\n",
    "total_sales_prompong = dfprompong_combined['Total Sales'].sum()\n",
    "total_sales_sukhumvit = dfsukhumvit_combined['Total Sales'].sum()\n",
    "total_sales_thonglor = dfthonglor_combined['Total Sales'].sum()\n",
    "\n",
    "# Create a data frame for the summed total sales\n",
    "branch_data = pd.DataFrame({\n",
    "    'Branch': ['Prompong', 'Sukhumvit', 'Thonglor'],\n",
    "    'Total Sales': [total_sales_prompong, total_sales_sukhumvit, total_sales_thonglor]\n",
    "})\n",
    "\n",
    "# Create a bar plot using Seaborn\n",
    "plt.figure(figsize=(6, 5))\n",
    "sns.set(style=\"darkgrid\")\n",
    "ax = sns.barplot(data=branch_data, x='Branch', y='Total Sales')\n",
    "\n",
    "# Format y-axis labels without scientific notation\n",
    "ax.get_yaxis().get_major_formatter().set_scientific(False)\n",
    "plt.xlabel('Branch')\n",
    "plt.ylabel('Total Sales')\n",
    "plt.title('Total Sales Comparison Across Branches for July, August, and September')\n",
    "plt.show()\n"
   ]
  },
  {
   "cell_type": "code",
   "execution_count": null,
   "id": "f7e8558c-eb4d-4b57-b3a4-f8caeeacab39",
   "metadata": {},
   "outputs": [],
   "source": []
  }
 ],
 "metadata": {
  "kernelspec": {
   "display_name": "Python",
   "language": "python",
   "name": "conda-env-python-py"
  },
  "language_info": {
   "codemirror_mode": {
    "name": "ipython",
    "version": 3
   },
   "file_extension": ".py",
   "mimetype": "text/x-python",
   "name": "python",
   "nbconvert_exporter": "python",
   "pygments_lexer": "ipython3",
   "version": "3.7.12"
  }
 },
 "nbformat": 4,
 "nbformat_minor": 5
}
