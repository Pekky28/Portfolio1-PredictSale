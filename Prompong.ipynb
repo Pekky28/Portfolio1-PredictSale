{
 "cells": [
  {
   "cell_type": "code",
   "execution_count": 1,
   "id": "26fc380f-c648-49d5-abec-3c8914b7444f",
   "metadata": {
    "tags": []
   },
   "outputs": [],
   "source": [
    "import pandas as pd"
   ]
  },
  {
   "cell_type": "code",
   "execution_count": 2,
   "id": "dad118cb-1c56-4911-97ae-fd301c12a2fe",
   "metadata": {
    "tags": []
   },
   "outputs": [],
   "source": [
    "july_fileT = \"ThonglorSalesJuly2023.csv\"\n",
    "august_fileT = \"ThonglorSalesAugust2023.csv\"\n",
    "sep_fileT = \"ThonglorSalesSeptember2023.csv\"\n",
    "\n",
    "df_julyt = pd.read_csv(july_fileT)\n",
    "df_augustt = pd.read_csv(august_fileT)\n",
    "df_sept = pd.read_csv(sep_fileT)"
   ]
  },
  {
   "cell_type": "code",
   "execution_count": 3,
   "id": "3b070f6f-0fda-494d-9d37-897d23ebe575",
   "metadata": {
    "tags": []
   },
   "outputs": [],
   "source": [
    "july_fileS = \"SukhumvitSalesJuly2023.csv\"\n",
    "august_fileS = \"SukhumvitSalesAugust2023.csv\"\n",
    "sep_fileS = \"SukhumvitSalesSeptember2023.csv\"\n",
    "\n",
    "df_julys = pd.read_csv(july_fileS)\n",
    "df_augusts = pd.read_csv(august_fileS)\n",
    "df_seps = pd.read_csv(sep_fileS)"
   ]
  },
  {
   "cell_type": "code",
   "execution_count": 4,
   "id": "3585018d-6af5-4167-867d-be96791f77fe",
   "metadata": {
    "tags": []
   },
   "outputs": [],
   "source": [
    "july_file = \"PrompongSalesJuly2023.csv\"\n",
    "august_file = \"PrompongSalesAugust2023.csv\"\n",
    "sep_file = \"PrompongSalesSeptember2023.csv\"\n",
    "\n",
    "df_julyp = pd.read_csv(july_file)\n",
    "df_augustp = pd.read_csv(august_file)\n",
    "df_sepp = pd.read_csv(sep_file)"
   ]
  },
  {
   "cell_type": "code",
   "execution_count": 5,
   "id": "85cf2f7b-eb24-4629-b905-d7126f143ecd",
   "metadata": {
    "tags": []
   },
   "outputs": [],
   "source": [
    "data_frames = [df_julyp, df_augustp, df_sepp, df_julys, df_augusts, df_seps, df_julyt, df_augustt, df_sept]\n"
   ]
  },
  {
   "cell_type": "code",
   "execution_count": 6,
   "id": "60021e8a-566e-4bf9-b3bd-93dd5498428f",
   "metadata": {
    "tags": []
   },
   "outputs": [],
   "source": [
    "data_frames_p = [df_julyp, df_augustp, df_sepp]"
   ]
  },
  {
   "cell_type": "code",
   "execution_count": 7,
   "id": "0e8c0b50-1848-4d8b-a243-fcf41ffce931",
   "metadata": {
    "tags": []
   },
   "outputs": [
    {
     "data": {
      "text/plain": [
       "Index(['Date', 'Pat Cust', 'Pat Sales', 'Aom Cust', 'Aom Sales', 'Da Cust',\n",
       "       'Da Sales', 'Fon Cust', 'Fon Sales', 'Nun Cust', 'Nun Sales',\n",
       "       'Kokier Cust', 'Kokier Sales', 'Pon Cust', 'Pon Sales', 'Mook Cust',\n",
       "       'Mook Sales', 'Total Cust', 'Total Sales', 'Voucher Amount', 'TIP',\n",
       "       'Total Cash Amount', 'TF Doc', 'Sales Doc', 'TF Date', 'In Charged',\n",
       "       'Book Bank Checked', 'เว้นไว้'],\n",
       "      dtype='object')"
      ]
     },
     "execution_count": 7,
     "metadata": {},
     "output_type": "execute_result"
    }
   ],
   "source": [
    "df_julyp.columns"
   ]
  },
  {
   "cell_type": "code",
   "execution_count": 8,
   "id": "a8d17455-e12f-4e66-bf92-334f05434f6e",
   "metadata": {
    "tags": []
   },
   "outputs": [
    {
     "data": {
      "text/plain": [
       "Index(['Date', 'Pat Cust', 'Pat Sales', 'Aom Cust', 'Aom Sales', 'Da Cust',\n",
       "       'Da Sales', 'Fon Cust', 'Fon Sales', 'Nun Cust', 'Nun Sales',\n",
       "       'Fhar Cust', 'Fhar Sales', 'Total Cust', 'Total Sales',\n",
       "       'Voucher Amount', 'TIP', 'Total Cash Amount', 'TF Doc', 'Sales Doc',\n",
       "       'TF Date', 'In Charged', 'Book Bank Checked', 'เว้นไว้'],\n",
       "      dtype='object')"
      ]
     },
     "execution_count": 8,
     "metadata": {},
     "output_type": "execute_result"
    }
   ],
   "source": [
    "df_augustp.columns"
   ]
  },
  {
   "cell_type": "code",
   "execution_count": 9,
   "id": "a8f09391-22de-483f-a536-fe5a9f243db3",
   "metadata": {
    "tags": []
   },
   "outputs": [
    {
     "data": {
      "text/plain": [
       "Index(['Date', 'Pat Cust', 'Pat Sales', 'Aom Cust', 'Aom Sales', 'Da Cust',\n",
       "       'Da Sales', 'Fon Cust', 'Fon Sales', 'Nun Cust', 'Nun Sales',\n",
       "       'Mook Cust ', 'Mook Sales ', 'Total Cust', 'Total Sales',\n",
       "       'Voucher Amount', 'TIP', 'Total Cash Amount', 'TF Doc', 'Sales Doc',\n",
       "       'TF Date', 'In Charged', 'Book Bank Checked', 'เว้นไว้'],\n",
       "      dtype='object')"
      ]
     },
     "execution_count": 9,
     "metadata": {},
     "output_type": "execute_result"
    }
   ],
   "source": [
    "df_sepp.columns"
   ]
  },
  {
   "cell_type": "code",
   "execution_count": 55,
   "id": "26d3d1bf-099a-4634-9282-bd9be40f3a2f",
   "metadata": {
    "tags": []
   },
   "outputs": [],
   "source": [
    "columns_of_interest = ['Pat Sales', 'Aom Sales', 'Da Sales', 'Fon Sales', 'Nun Sales', 'Kokier Sales', 'Pon Sales', 'Mook Sales','Fhar Sales']\n"
   ]
  },
  {
   "cell_type": "code",
   "execution_count": 46,
   "id": "a48b77ef-71ea-4e5e-a593-f7957225fccc",
   "metadata": {
    "tags": []
   },
   "outputs": [],
   "source": [
    "import pandas as pd\n",
    "\n",
    "# Load the CSV file into a DataFrame\n",
    "df = pd.read_csv(\"PrompongSalesJuly2023.csv\")\n",
    "\n",
    "# Drop the 32nd row (row with index 31)\n",
    "df = df.drop(31)\n",
    "\n",
    "# Save the updated DataFrame back to the original CSV file\n",
    "df.to_csv(\"PrompongSalesJuly2023.csv\", index=False)\n"
   ]
  },
  {
   "cell_type": "markdown",
   "id": "a6f3e9d3-c562-4785-a0a2-d75116ebf68a",
   "metadata": {},
   "source": [
    "### Prompong Prediction for OCT 2023"
   ]
  },
  {
   "cell_type": "code",
   "execution_count": 10,
   "id": "14d97154-1ccf-4677-ab52-4ae2e97db0e8",
   "metadata": {
    "tags": []
   },
   "outputs": [
    {
     "name": "stderr",
     "output_type": "stream",
     "text": [
      "/home/jupyterlab/conda/envs/python/lib/python3.7/site-packages/statsmodels/tsa/base/tsa_model.py:527: ValueWarning: No frequency information was provided, so inferred frequency D will be used.\n",
      "  % freq, ValueWarning)\n",
      "/home/jupyterlab/conda/envs/python/lib/python3.7/site-packages/statsmodels/tsa/base/tsa_model.py:527: ValueWarning: No frequency information was provided, so inferred frequency D will be used.\n",
      "  % freq, ValueWarning)\n",
      "/home/jupyterlab/conda/envs/python/lib/python3.7/site-packages/statsmodels/tsa/base/tsa_model.py:527: ValueWarning: No frequency information was provided, so inferred frequency D will be used.\n",
      "  % freq, ValueWarning)\n",
      "/home/jupyterlab/conda/envs/python/lib/python3.7/site-packages/statsmodels/tsa/base/tsa_model.py:132: FutureWarning: The 'freq' argument in Timestamp is deprecated and will be removed in a future version.\n",
      "  date_key = Timestamp(key, freq=base_index.freq)\n"
     ]
    },
    {
     "data": {
      "image/png": "[encoded data removed]",
      "text/plain": [
       "<Figure size 1200x600 with 1 Axes>"
      ]
     },
     "metadata": {},
     "output_type": "display_data"
    },
    {
     "name": "stdout",
     "output_type": "stream",
     "text": [
      "Total Sales Forecast for the Next Month (ARIMA):\n",
      "            Forecasted Sales\n",
      "2023-10-01       9647.195509\n",
      "2023-10-02       9327.032299\n",
      "2023-10-03       8727.542250\n",
      "2023-10-04       9183.107159\n",
      "2023-10-05       9598.665224\n",
      "2023-10-06       9633.897366\n",
      "2023-10-07       9596.282620\n",
      "2023-10-08       9444.898005\n",
      "2023-10-09       9257.452422\n",
      "2023-10-10       9321.680142\n",
      "2023-10-11       9419.075583\n",
      "2023-10-12       9467.397358\n",
      "2023-10-13       9487.854398\n",
      "2023-10-14       9446.959159\n",
      "2023-10-15       9391.497854\n",
      "2023-10-16       9390.124064\n",
      "2023-10-17       9407.551492\n",
      "2023-10-18       9427.236493\n",
      "2023-10-19       9440.873962\n",
      "2023-10-20       9433.766527\n",
      "2023-10-21       9419.148602\n",
      "2023-10-22       9413.913756\n",
      "2023-10-23       9415.126426\n",
      "2023-10-24       9420.760672\n",
      "2023-10-25       9426.214946\n",
      "2023-10-26       9426.089080\n",
      "2023-10-27       9422.858697\n",
      "2023-10-28       9420.460618\n",
      "2023-10-29       9419.688964\n",
      "2023-10-30       9420.868087\n"
     ]
    }
   ],
   "source": [
    "import pandas as pd\n",
    "import matplotlib.pyplot as plt\n",
    "from statsmodels.tsa.arima.model import ARIMA\n",
    "from datetime import datetime\n",
    "\n",
    "# Combine the data frames\n",
    "data_frames_p = [df_julyp, df_augustp, df_sepp]\n",
    "combined_data = pd.concat(data_frames_p)\n",
    "\n",
    "# Ensure the 'Date' column is in datetime format\n",
    "combined_data['Date'] = pd.to_datetime(combined_data['Date'])\n",
    "\n",
    "# Change the name of the month in the 'Date' column to numerical format\n",
    "combined_data['Month'] = combined_data['Date'].dt.month\n",
    "\n",
    "# Set 'Date' as the index for time series analysis\n",
    "combined_data.set_index('Date', inplace=True)\n",
    "\n",
    "# Model Selection (ARIMA)\n",
    "p = 5  # Autoregressive order\n",
    "d = 1  # Differencing order\n",
    "q = 0  # Moving average order\n",
    "\n",
    "model = ARIMA(combined_data['Total Sales'], order=(p, d, q))\n",
    "model_fit = model.fit()\n",
    "\n",
    "# Forecasting only the next month\n",
    "forecast_periods = 30  # Forecast for the next 30 days (approximately one month)\n",
    "\n",
    "# Create a date range for forecasting\n",
    "forecast_start = combined_data.index[-1] + pd.DateOffset(days=1)\n",
    "forecast_end = forecast_start + pd.DateOffset(days=forecast_periods - 1)\n",
    "forecast_index = pd.date_range(start=forecast_start, end=forecast_end, freq='D')\n",
    "\n",
    "# Generate forecast values\n",
    "forecast_values = model_fit.predict(start=forecast_start, end=forecast_end, typ='levels')\n",
    "\n",
    "# Create a DataFrame for the forecast\n",
    "forecast_df = pd.DataFrame({'Forecasted Sales': forecast_values}, index=forecast_index)\n",
    "\n",
    "# Plot historical sales and the forecast for the next month\n",
    "plt.figure(figsize=(12, 6))\n",
    "plt.plot(combined_data.index, combined_data['Total Sales'], label='Historical Sales', color='blue')\n",
    "plt.plot(forecast_df.index, forecast_df['Forecasted Sales'], label='Forecasted Sales', color='red')\n",
    "\n",
    "plt.title('Prompong Total Sales Forecast for the Next Month (ARIMA)')\n",
    "plt.xlabel('Date')\n",
    "plt.ylabel('Total Sales')\n",
    "plt.legend()\n",
    "plt.grid(True)\n",
    "plt.show()\n",
    "\n",
    "# Print the forecast for the next month\n",
    "print(\"Total Sales Forecast for the Next Month (ARIMA):\")\n",
    "print(forecast_df)\n"
   ]
  },
  {
   "cell_type": "code",
   "execution_count": 35,
   "id": "93f0613c-68dd-459c-bad0-95e17c23457e",
   "metadata": {
    "tags": []
   },
   "outputs": [
    {
     "name": "stdout",
     "output_type": "stream",
     "text": [
      "Mean of Actual Values: 10039.0\n",
      "Mean of Predicted Values: 9373.7752996\n"
     ]
    }
   ],
   "source": [
    "import numpy as np\n",
    "\n",
    "actual_values = [10255, 8940, 12570, 9340, 7480, 11620, 13315, 9850, 8080, 8940]\n",
    "predicted_values = [  9647.195509,  9327.032299,  8727.542250, 9183.107159, 9598.665224, 9633.897366,  \n",
    "                    9596.282620,9444.898005,   9257.452422,  9321.680142]\n",
    "\n",
    "# Calculate the mean of actual values\n",
    "mean_actual = np.mean(actual_values)\n",
    "\n",
    "# Calculate the mean of predicted values\n",
    "mean_predicted = np.mean(predicted_values)\n",
    "\n",
    "print(f\"Mean of Actual Values: {mean_actual}\")\n",
    "print(f\"Mean of Predicted Values: {mean_predicted}\")"
   ]
  },
  {
   "cell_type": "code",
   "execution_count": 31,
   "id": "3b93c9bc-352c-488f-9f8f-c53c90f08e8b",
   "metadata": {
    "tags": []
   },
   "outputs": [
    {
     "name": "stdout",
     "output_type": "stream",
     "text": [
      "Requirement already satisfied: prettytable in /home/jupyterlab/conda/envs/python/lib/python3.7/site-packages (3.7.0)\n",
      "Requirement already satisfied: importlib-metadata in /home/jupyterlab/conda/envs/python/lib/python3.7/site-packages (from prettytable) (4.11.4)\n",
      "Requirement already satisfied: wcwidth in /home/jupyterlab/conda/envs/python/lib/python3.7/site-packages (from prettytable) (0.2.6)\n",
      "Requirement already satisfied: zipp>=0.5 in /home/jupyterlab/conda/envs/python/lib/python3.7/site-packages (from importlib-metadata->prettytable) (3.15.0)\n",
      "Requirement already satisfied: typing-extensions>=3.6.4 in /home/jupyterlab/conda/envs/python/lib/python3.7/site-packages (from importlib-metadata->prettytable) (4.5.0)\n",
      "Note: you may need to restart the kernel to use updated packages.\n"
     ]
    }
   ],
   "source": [
    "pip install prettytable\n"
   ]
  },
  {
   "cell_type": "markdown",
   "id": "905f98a8-da79-42d0-884a-2b0464a598a3",
   "metadata": {},
   "source": [
    "### Evaluation"
   ]
  },
  {
   "cell_type": "code",
   "execution_count": 34,
   "id": "c076f9f0-8a8c-4758-91a3-f07aaffb0121",
   "metadata": {
    "tags": []
   },
   "outputs": [
    {
     "data": {
      "text/html": [
       "<table>\n",
       "    <thead>\n",
       "        <tr>\n",
       "            <th>Metric</th>\n",
       "            <th>Value</th>\n",
       "        </tr>\n",
       "    </thead>\n",
       "    <tbody>\n",
       "        <tr>\n",
       "            <td>Mean Absolute Error (MAE)</td>\n",
       "            <td>1478.19</td>\n",
       "        </tr>\n",
       "        <tr>\n",
       "            <td>Mean Squared Error (MSE)</td>\n",
       "            <td>3926670.37</td>\n",
       "        </tr>\n",
       "        <tr>\n",
       "            <td>Root Mean Squared Error (RMSE)</td>\n",
       "            <td>1981.58</td>\n",
       "        </tr>\n",
       "    </tbody>\n",
       "</table>"
      ],
      "text/plain": [
       "+--------------------------------+------------+\n",
       "|             Metric             |   Value    |\n",
       "+--------------------------------+------------+\n",
       "|   Mean Absolute Error (MAE)    |  1478.19   |\n",
       "|    Mean Squared Error (MSE)    | 3926670.37 |\n",
       "| Root Mean Squared Error (RMSE) |  1981.58   |\n",
       "+--------------------------------+------------+"
      ]
     },
     "execution_count": 34,
     "metadata": {},
     "output_type": "execute_result"
    }
   ],
   "source": [
    "import numpy as np\n",
    "from prettytable import PrettyTable\n",
    "\n",
    "actual_values = np.array([10255, 8940, 12570, 9340, 7480, 11620, 13315, 9850, 8080, 8940])\n",
    "predicted_values = np.array([9647.195509, 9327.032299, 8727.542250, 9183.107159, 9598.665224, 9633.897366, 9596.282620, 9444.898005, 9257.452422, 9321.680142])\n",
    "\n",
    "# Calculate the Mean Absolute Error (MAE)\n",
    "mae = np.mean(np.abs(actual_values - predicted_values))\n",
    "\n",
    "# Calculate the Mean Squared Error (MSE)\n",
    "mse = np.mean((actual_values - predicted_values) ** 2)\n",
    "\n",
    "# Calculate the Root Mean Squared Error (RMSE)\n",
    "rmse = np.sqrt(mse)\n",
    "\n",
    "# Create a table to display the results\n",
    "table = PrettyTable()\n",
    "table.field_names = [\"Metric\", \"Value\"]\n",
    "table.add_row([\"Mean Absolute Error (MAE)\", round(mae, 2)])\n",
    "table.add_row([\"Mean Squared Error (MSE)\", round(mse, 2)])\n",
    "table.add_row([\"Root Mean Squared Error (RMSE)\", round(rmse, 2)])\n",
    "\n",
    "table\n"
   ]
  },
  {
   "cell_type": "markdown",
   "id": "815eb5c5-9114-4373-8302-249633383045",
   "metadata": {},
   "source": [
    "### Total Sales / Staff"
   ]
  },
  {
   "cell_type": "code",
   "execution_count": 12,
   "id": "f9a1c20a-13f2-4d87-bc7d-20cfcfa8fcc1",
   "metadata": {
    "tags": []
   },
   "outputs": [
    {
     "data": {
      "image/png": "[encoded data removed]",
      "text/plain": [
       "<Figure size 1200x600 with 1 Axes>"
      ]
     },
     "metadata": {},
     "output_type": "display_data"
    }
   ],
   "source": [
    "import pandas as pd\n",
    "import matplotlib.pyplot as plt\n",
    "\n",
    "# Assuming you have defined data frames df_julyt, df_augustt, and df_sept\n",
    "\n",
    "# List of data frames for each month\n",
    "data_frames_p = [df_julyp, df_augustp, df_sepp]\n",
    "\n",
    "# Concatenate the data frames to combine the data\n",
    "combined_data = pd.concat(data_frames_p)\n",
    "\n",
    "# Select the columns of interest\n",
    "columns_of_interest = ['Pat Sales', 'Aom Sales', 'Da Sales', 'Fon Sales', 'Nun Sales', 'Kokier Sales', 'Pon Sales', 'Mook Sales','Fhar Sales']\n",
    "\n",
    "# Extract the relevant data\n",
    "sales_data = combined_data[columns_of_interest]\n",
    "\n",
    "# Plot the data using a bar graph\n",
    "sales_data.sum().plot(kind='bar', figsize=(12, 6), color='skyblue')\n",
    "\n",
    "# Customize the plot\n",
    "plt.title('Total Sales for Each Sales Person July-Sep/Sukhumvit')\n",
    "plt.xlabel('Sales Category')\n",
    "plt.ylabel('Total Sales')\n",
    "plt.xticks(rotation=45)\n",
    "plt.grid(True)\n",
    "\n",
    "# Show the plot\n",
    "plt.tight_layout()\n",
    "plt.show()"
   ]
  },
  {
   "cell_type": "markdown",
   "id": "c1ffbd17-9cc2-4041-8140-2e10a20bc186",
   "metadata": {},
   "source": [
    "### To find the 5 dates with the highest total sales in a DataFrame"
   ]
  },
  {
   "cell_type": "code",
   "execution_count": 8,
   "id": "1d05f2c5-47cd-422e-addb-38a1968d94ea",
   "metadata": {
    "tags": []
   },
   "outputs": [
    {
     "data": {
      "text/plain": [
       "4      August 5, 2023\n",
       "11      July 12, 2023\n",
       "6        July 7, 2023\n",
       "25      July 26, 2023\n",
       "24    August 25, 2023\n",
       "Name: Date, dtype: object"
      ]
     },
     "execution_count": 8,
     "metadata": {},
     "output_type": "execute_result"
    }
   ],
   "source": [
    "import pandas as pd\n",
    "\n",
    "# Concatenate the dataframes\n",
    "data_frames_p = [df_julyp, df_augustp, df_sepp]\n",
    "combined_df = pd.concat(data_frames_p)\n",
    "\n",
    "# Sort the dataframe by total sales in descending order\n",
    "sorted_df = combined_df.sort_values(by='Total Sales', ascending=False)\n",
    "\n",
    "# Get the first 5 dates with the highest total sales\n",
    "top_5_dates = sorted_df['Date'].head(5)\n",
    "\n",
    "# Display the top 5 dates\n",
    "top_5_dates"
   ]
  },
  {
   "cell_type": "code",
   "execution_count": 10,
   "id": "c1eeac59-8e58-4bf6-a3f9-1757ea0654f0",
   "metadata": {
    "tags": []
   },
   "outputs": [
    {
     "data": {
      "text/html": [
       "<div>\n",
       "<style scoped>\n",
       "    .dataframe tbody tr th:only-of-type {\n",
       "        vertical-align: middle;\n",
       "    }\n",
       "\n",
       "    .dataframe tbody tr th {\n",
       "        vertical-align: top;\n",
       "    }\n",
       "\n",
       "    .dataframe thead th {\n",
       "        text-align: right;\n",
       "    }\n",
       "</style>\n",
       "<table border=\"1\" class=\"dataframe\">\n",
       "  <thead>\n",
       "    <tr style=\"text-align: right;\">\n",
       "      <th></th>\n",
       "      <th>Date</th>\n",
       "      <th>Pat Cust</th>\n",
       "      <th>Pat Sales</th>\n",
       "      <th>Aom Cust</th>\n",
       "      <th>Aom Sales</th>\n",
       "      <th>Da Cust</th>\n",
       "      <th>Da Sales</th>\n",
       "      <th>Fon Cust</th>\n",
       "      <th>Fon Sales</th>\n",
       "      <th>Nun Cust</th>\n",
       "      <th>...</th>\n",
       "      <th>Total Sales</th>\n",
       "      <th>Voucher Amount</th>\n",
       "      <th>TIP</th>\n",
       "      <th>Total Cash Amount</th>\n",
       "      <th>TF Doc</th>\n",
       "      <th>Sales Doc</th>\n",
       "      <th>TF Date</th>\n",
       "      <th>In Charged</th>\n",
       "      <th>Book Bank Checked</th>\n",
       "      <th>เว้นไว้</th>\n",
       "    </tr>\n",
       "  </thead>\n",
       "  <tbody>\n",
       "    <tr>\n",
       "      <th>11</th>\n",
       "      <td>July 12, 2023</td>\n",
       "      <td>8</td>\n",
       "      <td>3130</td>\n",
       "      <td>7</td>\n",
       "      <td>2950</td>\n",
       "      <td>8</td>\n",
       "      <td>2800</td>\n",
       "      <td>7</td>\n",
       "      <td>2300</td>\n",
       "      <td>6.0</td>\n",
       "      <td>...</td>\n",
       "      <td>13890.0</td>\n",
       "      <td>0.0</td>\n",
       "      <td>0.0</td>\n",
       "      <td>13890.0</td>\n",
       "      <td>NaN</td>\n",
       "      <td>NaN</td>\n",
       "      <td>NaN</td>\n",
       "      <td>NaN</td>\n",
       "      <td>No</td>\n",
       "      <td>NaN</td>\n",
       "    </tr>\n",
       "    <tr>\n",
       "      <th>6</th>\n",
       "      <td>July 7, 2023</td>\n",
       "      <td>7</td>\n",
       "      <td>2250</td>\n",
       "      <td>7</td>\n",
       "      <td>3170</td>\n",
       "      <td>9</td>\n",
       "      <td>3100</td>\n",
       "      <td>8</td>\n",
       "      <td>2450</td>\n",
       "      <td>11.0</td>\n",
       "      <td>...</td>\n",
       "      <td>13320.0</td>\n",
       "      <td>0.0</td>\n",
       "      <td>0.0</td>\n",
       "      <td>13320.0</td>\n",
       "      <td>NaN</td>\n",
       "      <td>NaN</td>\n",
       "      <td>NaN</td>\n",
       "      <td>NaN</td>\n",
       "      <td>No</td>\n",
       "      <td>NaN</td>\n",
       "    </tr>\n",
       "    <tr>\n",
       "      <th>25</th>\n",
       "      <td>July 26, 2023</td>\n",
       "      <td>6</td>\n",
       "      <td>2650</td>\n",
       "      <td>6</td>\n",
       "      <td>3360</td>\n",
       "      <td>6</td>\n",
       "      <td>2280</td>\n",
       "      <td>5</td>\n",
       "      <td>2350</td>\n",
       "      <td>6.0</td>\n",
       "      <td>...</td>\n",
       "      <td>13040.0</td>\n",
       "      <td>450.0</td>\n",
       "      <td>0.0</td>\n",
       "      <td>12590.0</td>\n",
       "      <td>NaN</td>\n",
       "      <td>NaN</td>\n",
       "      <td>NaN</td>\n",
       "      <td>NaN</td>\n",
       "      <td>No</td>\n",
       "      <td>NaN</td>\n",
       "    </tr>\n",
       "    <tr>\n",
       "      <th>13</th>\n",
       "      <td>July 14, 2023</td>\n",
       "      <td>5</td>\n",
       "      <td>1880</td>\n",
       "      <td>8</td>\n",
       "      <td>3150</td>\n",
       "      <td>5</td>\n",
       "      <td>1890</td>\n",
       "      <td>5</td>\n",
       "      <td>2450</td>\n",
       "      <td>6.0</td>\n",
       "      <td>...</td>\n",
       "      <td>12050.0</td>\n",
       "      <td>250.0</td>\n",
       "      <td>0.0</td>\n",
       "      <td>11800.0</td>\n",
       "      <td>NaN</td>\n",
       "      <td>NaN</td>\n",
       "      <td>NaN</td>\n",
       "      <td>NaN</td>\n",
       "      <td>No</td>\n",
       "      <td>NaN</td>\n",
       "    </tr>\n",
       "    <tr>\n",
       "      <th>27</th>\n",
       "      <td>July 28, 2023</td>\n",
       "      <td>4</td>\n",
       "      <td>1590</td>\n",
       "      <td>6</td>\n",
       "      <td>2555</td>\n",
       "      <td>6</td>\n",
       "      <td>2950</td>\n",
       "      <td>5</td>\n",
       "      <td>2160</td>\n",
       "      <td>5.0</td>\n",
       "      <td>...</td>\n",
       "      <td>11915.0</td>\n",
       "      <td>350.0</td>\n",
       "      <td>0.0</td>\n",
       "      <td>11565.0</td>\n",
       "      <td>NaN</td>\n",
       "      <td>NaN</td>\n",
       "      <td>NaN</td>\n",
       "      <td>NaN</td>\n",
       "      <td>No</td>\n",
       "      <td>NaN</td>\n",
       "    </tr>\n",
       "  </tbody>\n",
       "</table>\n",
       "<p>5 rows × 28 columns</p>\n",
       "</div>"
      ],
      "text/plain": [
       "             Date  Pat Cust  Pat Sales  Aom Cust  Aom Sales  Da Cust  \\\n",
       "11  July 12, 2023         8       3130         7       2950        8   \n",
       "6    July 7, 2023         7       2250         7       3170        9   \n",
       "25  July 26, 2023         6       2650         6       3360        6   \n",
       "13  July 14, 2023         5       1880         8       3150        5   \n",
       "27  July 28, 2023         4       1590         6       2555        6   \n",
       "\n",
       "    Da Sales  Fon Cust  Fon Sales  Nun Cust  ...  Total Sales  Voucher Amount  \\\n",
       "11      2800         7       2300       6.0  ...      13890.0             0.0   \n",
       "6       3100         8       2450      11.0  ...      13320.0             0.0   \n",
       "25      2280         5       2350       6.0  ...      13040.0           450.0   \n",
       "13      1890         5       2450       6.0  ...      12050.0           250.0   \n",
       "27      2950         5       2160       5.0  ...      11915.0           350.0   \n",
       "\n",
       "    TIP  Total Cash Amount  TF Doc  Sales Doc  TF Date  In Charged  \\\n",
       "11  0.0            13890.0     NaN        NaN      NaN         NaN   \n",
       "6   0.0            13320.0     NaN        NaN      NaN         NaN   \n",
       "25  0.0            12590.0     NaN        NaN      NaN         NaN   \n",
       "13  0.0            11800.0     NaN        NaN      NaN         NaN   \n",
       "27  0.0            11565.0     NaN        NaN      NaN         NaN   \n",
       "\n",
       "    Book Bank Checked  เว้นไว้  \n",
       "11                 No      NaN  \n",
       "6                  No      NaN  \n",
       "25                 No      NaN  \n",
       "13                 No      NaN  \n",
       "27                 No      NaN  \n",
       "\n",
       "[5 rows x 28 columns]"
      ]
     },
     "execution_count": 10,
     "metadata": {},
     "output_type": "execute_result"
    }
   ],
   "source": [
    "# Sort df_julyp by 'Total Sales' in descending order and select the top 5 rows\n",
    "top_5_dates = df_julyp.sort_values(by='Total Sales', ascending=False).head(5)\n",
    "\n",
    "# Display the top 5 dates\n",
    "top_5_dates\n"
   ]
  },
  {
   "cell_type": "code",
   "execution_count": 11,
   "id": "ba17de6c-d49f-4fa8-b7ae-9967f5c8d2ba",
   "metadata": {
    "tags": []
   },
   "outputs": [
    {
     "data": {
      "text/html": [
       "<div>\n",
       "<style scoped>\n",
       "    .dataframe tbody tr th:only-of-type {\n",
       "        vertical-align: middle;\n",
       "    }\n",
       "\n",
       "    .dataframe tbody tr th {\n",
       "        vertical-align: top;\n",
       "    }\n",
       "\n",
       "    .dataframe thead th {\n",
       "        text-align: right;\n",
       "    }\n",
       "</style>\n",
       "<table border=\"1\" class=\"dataframe\">\n",
       "  <thead>\n",
       "    <tr style=\"text-align: right;\">\n",
       "      <th></th>\n",
       "      <th>Date</th>\n",
       "      <th>Pat Cust</th>\n",
       "      <th>Pat Sales</th>\n",
       "      <th>Aom Cust</th>\n",
       "      <th>Aom Sales</th>\n",
       "      <th>Da Cust</th>\n",
       "      <th>Da Sales</th>\n",
       "      <th>Fon Cust</th>\n",
       "      <th>Fon Sales</th>\n",
       "      <th>Nun Cust</th>\n",
       "      <th>...</th>\n",
       "      <th>Total Sales</th>\n",
       "      <th>Voucher Amount</th>\n",
       "      <th>TIP</th>\n",
       "      <th>Total Cash Amount</th>\n",
       "      <th>TF Doc</th>\n",
       "      <th>Sales Doc</th>\n",
       "      <th>TF Date</th>\n",
       "      <th>In Charged</th>\n",
       "      <th>Book Bank Checked</th>\n",
       "      <th>เว้นไว้</th>\n",
       "    </tr>\n",
       "  </thead>\n",
       "  <tbody>\n",
       "    <tr>\n",
       "      <th>4</th>\n",
       "      <td>August 5, 2023</td>\n",
       "      <td>8</td>\n",
       "      <td>2980</td>\n",
       "      <td>11</td>\n",
       "      <td>4930</td>\n",
       "      <td>9</td>\n",
       "      <td>3310</td>\n",
       "      <td>6</td>\n",
       "      <td>3200</td>\n",
       "      <td>0</td>\n",
       "      <td>...</td>\n",
       "      <td>14420</td>\n",
       "      <td>0.0</td>\n",
       "      <td>0.0</td>\n",
       "      <td>14420.0</td>\n",
       "      <td>NaN</td>\n",
       "      <td>NaN</td>\n",
       "      <td>NaN</td>\n",
       "      <td>NaN</td>\n",
       "      <td>No</td>\n",
       "      <td>NaN</td>\n",
       "    </tr>\n",
       "    <tr>\n",
       "      <th>24</th>\n",
       "      <td>August 25, 2023</td>\n",
       "      <td>7</td>\n",
       "      <td>2210</td>\n",
       "      <td>6</td>\n",
       "      <td>4030</td>\n",
       "      <td>8</td>\n",
       "      <td>2890</td>\n",
       "      <td>6</td>\n",
       "      <td>1660</td>\n",
       "      <td>6</td>\n",
       "      <td>...</td>\n",
       "      <td>12890</td>\n",
       "      <td>250.0</td>\n",
       "      <td>0.0</td>\n",
       "      <td>12640.0</td>\n",
       "      <td>NaN</td>\n",
       "      <td>NaN</td>\n",
       "      <td>NaN</td>\n",
       "      <td>NaN</td>\n",
       "      <td>No</td>\n",
       "      <td>NaN</td>\n",
       "    </tr>\n",
       "    <tr>\n",
       "      <th>25</th>\n",
       "      <td>August 26, 2023</td>\n",
       "      <td>7</td>\n",
       "      <td>2450</td>\n",
       "      <td>8</td>\n",
       "      <td>3680</td>\n",
       "      <td>0</td>\n",
       "      <td>0</td>\n",
       "      <td>7</td>\n",
       "      <td>2420</td>\n",
       "      <td>10</td>\n",
       "      <td>...</td>\n",
       "      <td>12430</td>\n",
       "      <td>0.0</td>\n",
       "      <td>0.0</td>\n",
       "      <td>12430.0</td>\n",
       "      <td>NaN</td>\n",
       "      <td>NaN</td>\n",
       "      <td>NaN</td>\n",
       "      <td>NaN</td>\n",
       "      <td>No</td>\n",
       "      <td>NaN</td>\n",
       "    </tr>\n",
       "    <tr>\n",
       "      <th>2</th>\n",
       "      <td>August 3, 2023</td>\n",
       "      <td>9</td>\n",
       "      <td>3030</td>\n",
       "      <td>9</td>\n",
       "      <td>3990</td>\n",
       "      <td>8</td>\n",
       "      <td>2950</td>\n",
       "      <td>7</td>\n",
       "      <td>2390</td>\n",
       "      <td>0</td>\n",
       "      <td>...</td>\n",
       "      <td>12360</td>\n",
       "      <td>0.0</td>\n",
       "      <td>0.0</td>\n",
       "      <td>12360.0</td>\n",
       "      <td>NaN</td>\n",
       "      <td>NaN</td>\n",
       "      <td>NaN</td>\n",
       "      <td>NaN</td>\n",
       "      <td>No</td>\n",
       "      <td>NaN</td>\n",
       "    </tr>\n",
       "    <tr>\n",
       "      <th>7</th>\n",
       "      <td>August 8, 2023</td>\n",
       "      <td>8</td>\n",
       "      <td>2550</td>\n",
       "      <td>9</td>\n",
       "      <td>3720</td>\n",
       "      <td>0</td>\n",
       "      <td>0</td>\n",
       "      <td>7</td>\n",
       "      <td>2150</td>\n",
       "      <td>9</td>\n",
       "      <td>...</td>\n",
       "      <td>12000</td>\n",
       "      <td>750.0</td>\n",
       "      <td>0.0</td>\n",
       "      <td>11250.0</td>\n",
       "      <td>NaN</td>\n",
       "      <td>NaN</td>\n",
       "      <td>NaN</td>\n",
       "      <td>NaN</td>\n",
       "      <td>No</td>\n",
       "      <td>NaN</td>\n",
       "    </tr>\n",
       "  </tbody>\n",
       "</table>\n",
       "<p>5 rows × 24 columns</p>\n",
       "</div>"
      ],
      "text/plain": [
       "               Date  Pat Cust  Pat Sales  Aom Cust  Aom Sales  Da Cust  \\\n",
       "4    August 5, 2023         8       2980        11       4930        9   \n",
       "24  August 25, 2023         7       2210         6       4030        8   \n",
       "25  August 26, 2023         7       2450         8       3680        0   \n",
       "2    August 3, 2023         9       3030         9       3990        8   \n",
       "7    August 8, 2023         8       2550         9       3720        0   \n",
       "\n",
       "    Da Sales  Fon Cust  Fon Sales  Nun Cust  ...  Total Sales  Voucher Amount  \\\n",
       "4       3310         6       3200         0  ...        14420             0.0   \n",
       "24      2890         6       1660         6  ...        12890           250.0   \n",
       "25         0         7       2420        10  ...        12430             0.0   \n",
       "2       2950         7       2390         0  ...        12360             0.0   \n",
       "7          0         7       2150         9  ...        12000           750.0   \n",
       "\n",
       "    TIP  Total Cash Amount  TF Doc  Sales Doc  TF Date  In Charged  \\\n",
       "4   0.0            14420.0     NaN        NaN      NaN         NaN   \n",
       "24  0.0            12640.0     NaN        NaN      NaN         NaN   \n",
       "25  0.0            12430.0     NaN        NaN      NaN         NaN   \n",
       "2   0.0            12360.0     NaN        NaN      NaN         NaN   \n",
       "7   0.0            11250.0     NaN        NaN      NaN         NaN   \n",
       "\n",
       "    Book Bank Checked  เว้นไว้  \n",
       "4                  No      NaN  \n",
       "24                 No      NaN  \n",
       "25                 No      NaN  \n",
       "2                  No      NaN  \n",
       "7                  No      NaN  \n",
       "\n",
       "[5 rows x 24 columns]"
      ]
     },
     "execution_count": 11,
     "metadata": {},
     "output_type": "execute_result"
    }
   ],
   "source": [
    "top_5_dates = df_augustp.sort_values(by='Total Sales', ascending=False).head(5)\n",
    "\n",
    "# Display the top 5 dates\n",
    "top_5_dates"
   ]
  },
  {
   "cell_type": "code",
   "execution_count": 12,
   "id": "12b0fc43-036d-4c2e-b3da-b8e4d1395967",
   "metadata": {
    "tags": []
   },
   "outputs": [
    {
     "data": {
      "text/html": [
       "<div>\n",
       "<style scoped>\n",
       "    .dataframe tbody tr th:only-of-type {\n",
       "        vertical-align: middle;\n",
       "    }\n",
       "\n",
       "    .dataframe tbody tr th {\n",
       "        vertical-align: top;\n",
       "    }\n",
       "\n",
       "    .dataframe thead th {\n",
       "        text-align: right;\n",
       "    }\n",
       "</style>\n",
       "<table border=\"1\" class=\"dataframe\">\n",
       "  <thead>\n",
       "    <tr style=\"text-align: right;\">\n",
       "      <th></th>\n",
       "      <th>Date</th>\n",
       "      <th>Pat Cust</th>\n",
       "      <th>Pat Sales</th>\n",
       "      <th>Aom Cust</th>\n",
       "      <th>Aom Sales</th>\n",
       "      <th>Da Cust</th>\n",
       "      <th>Da Sales</th>\n",
       "      <th>Fon Cust</th>\n",
       "      <th>Fon Sales</th>\n",
       "      <th>Nun Cust</th>\n",
       "      <th>...</th>\n",
       "      <th>Total Sales</th>\n",
       "      <th>Voucher Amount</th>\n",
       "      <th>TIP</th>\n",
       "      <th>Total Cash Amount</th>\n",
       "      <th>TF Doc</th>\n",
       "      <th>Sales Doc</th>\n",
       "      <th>TF Date</th>\n",
       "      <th>In Charged</th>\n",
       "      <th>Book Bank Checked</th>\n",
       "      <th>เว้นไว้</th>\n",
       "    </tr>\n",
       "  </thead>\n",
       "  <tbody>\n",
       "    <tr>\n",
       "      <th>0</th>\n",
       "      <td>September 1, 2023</td>\n",
       "      <td>7</td>\n",
       "      <td>2600</td>\n",
       "      <td>8</td>\n",
       "      <td>3030</td>\n",
       "      <td>9</td>\n",
       "      <td>4040</td>\n",
       "      <td>0</td>\n",
       "      <td>0</td>\n",
       "      <td>10.0</td>\n",
       "      <td>...</td>\n",
       "      <td>11970.0</td>\n",
       "      <td>0.0</td>\n",
       "      <td>100.0</td>\n",
       "      <td>11870.0</td>\n",
       "      <td>NaN</td>\n",
       "      <td>NaN</td>\n",
       "      <td>NaN</td>\n",
       "      <td>NaN</td>\n",
       "      <td>No</td>\n",
       "      <td>NaN</td>\n",
       "    </tr>\n",
       "    <tr>\n",
       "      <th>5</th>\n",
       "      <td>September 6, 2023</td>\n",
       "      <td>6</td>\n",
       "      <td>2080</td>\n",
       "      <td>6</td>\n",
       "      <td>2940</td>\n",
       "      <td>8</td>\n",
       "      <td>2090</td>\n",
       "      <td>6</td>\n",
       "      <td>2150</td>\n",
       "      <td>8.0</td>\n",
       "      <td>...</td>\n",
       "      <td>11760.0</td>\n",
       "      <td>0.0</td>\n",
       "      <td>0.0</td>\n",
       "      <td>11760.0</td>\n",
       "      <td>NaN</td>\n",
       "      <td>NaN</td>\n",
       "      <td>NaN</td>\n",
       "      <td>NaN</td>\n",
       "      <td>No</td>\n",
       "      <td>NaN</td>\n",
       "    </tr>\n",
       "    <tr>\n",
       "      <th>22</th>\n",
       "      <td>September 23, 2023</td>\n",
       "      <td>8</td>\n",
       "      <td>2300</td>\n",
       "      <td>8</td>\n",
       "      <td>3350</td>\n",
       "      <td>0</td>\n",
       "      <td>0</td>\n",
       "      <td>6</td>\n",
       "      <td>2160</td>\n",
       "      <td>8.0</td>\n",
       "      <td>...</td>\n",
       "      <td>11360.0</td>\n",
       "      <td>250.0</td>\n",
       "      <td>100.0</td>\n",
       "      <td>11010.0</td>\n",
       "      <td>NaN</td>\n",
       "      <td>NaN</td>\n",
       "      <td>NaN</td>\n",
       "      <td>NaN</td>\n",
       "      <td>No</td>\n",
       "      <td>NaN</td>\n",
       "    </tr>\n",
       "    <tr>\n",
       "      <th>21</th>\n",
       "      <td>September 22, 2023</td>\n",
       "      <td>5</td>\n",
       "      <td>1690</td>\n",
       "      <td>7</td>\n",
       "      <td>3120</td>\n",
       "      <td>7</td>\n",
       "      <td>2000</td>\n",
       "      <td>6</td>\n",
       "      <td>1890</td>\n",
       "      <td>8.0</td>\n",
       "      <td>...</td>\n",
       "      <td>10970.0</td>\n",
       "      <td>500.0</td>\n",
       "      <td>0.0</td>\n",
       "      <td>10470.0</td>\n",
       "      <td>NaN</td>\n",
       "      <td>NaN</td>\n",
       "      <td>NaN</td>\n",
       "      <td>NaN</td>\n",
       "      <td>No</td>\n",
       "      <td>NaN</td>\n",
       "    </tr>\n",
       "    <tr>\n",
       "      <th>15</th>\n",
       "      <td>September 16, 2023</td>\n",
       "      <td>6</td>\n",
       "      <td>2550</td>\n",
       "      <td>0</td>\n",
       "      <td>0</td>\n",
       "      <td>7</td>\n",
       "      <td>2850</td>\n",
       "      <td>6</td>\n",
       "      <td>2650</td>\n",
       "      <td>8.0</td>\n",
       "      <td>...</td>\n",
       "      <td>10950.0</td>\n",
       "      <td>0.0</td>\n",
       "      <td>0.0</td>\n",
       "      <td>10950.0</td>\n",
       "      <td>NaN</td>\n",
       "      <td>NaN</td>\n",
       "      <td>NaN</td>\n",
       "      <td>NaN</td>\n",
       "      <td>No</td>\n",
       "      <td>NaN</td>\n",
       "    </tr>\n",
       "  </tbody>\n",
       "</table>\n",
       "<p>5 rows × 24 columns</p>\n",
       "</div>"
      ],
      "text/plain": [
       "                  Date  Pat Cust  Pat Sales  Aom Cust  Aom Sales  Da Cust  \\\n",
       "0    September 1, 2023         7       2600         8       3030        9   \n",
       "5    September 6, 2023         6       2080         6       2940        8   \n",
       "22  September 23, 2023         8       2300         8       3350        0   \n",
       "21  September 22, 2023         5       1690         7       3120        7   \n",
       "15  September 16, 2023         6       2550         0          0        7   \n",
       "\n",
       "    Da Sales  Fon Cust  Fon Sales  Nun Cust  ...  Total Sales  Voucher Amount  \\\n",
       "0       4040         0          0      10.0  ...      11970.0             0.0   \n",
       "5       2090         6       2150       8.0  ...      11760.0             0.0   \n",
       "22         0         6       2160       8.0  ...      11360.0           250.0   \n",
       "21      2000         6       1890       8.0  ...      10970.0           500.0   \n",
       "15      2850         6       2650       8.0  ...      10950.0             0.0   \n",
       "\n",
       "      TIP  Total Cash Amount  TF Doc  Sales Doc  TF Date  In Charged  \\\n",
       "0   100.0            11870.0     NaN        NaN      NaN         NaN   \n",
       "5     0.0            11760.0     NaN        NaN      NaN         NaN   \n",
       "22  100.0            11010.0     NaN        NaN      NaN         NaN   \n",
       "21    0.0            10470.0     NaN        NaN      NaN         NaN   \n",
       "15    0.0            10950.0     NaN        NaN      NaN         NaN   \n",
       "\n",
       "    Book Bank Checked  เว้นไว้  \n",
       "0                  No      NaN  \n",
       "5                  No      NaN  \n",
       "22                 No      NaN  \n",
       "21                 No      NaN  \n",
       "15                 No      NaN  \n",
       "\n",
       "[5 rows x 24 columns]"
      ]
     },
     "execution_count": 12,
     "metadata": {},
     "output_type": "execute_result"
    }
   ],
   "source": [
    "top_5_dates = df_sepp.sort_values(by='Total Sales', ascending=False).head(5)\n",
    "\n",
    "# Display the top 5 dates\n",
    "top_5_dates"
   ]
  },
  {
   "cell_type": "code",
   "execution_count": null,
   "id": "82dab164-e1bc-453d-882e-6f5c8f72bade",
   "metadata": {},
   "outputs": [],
   "source": [
    "#5 Dates Highest TotalSales = 2-7 , 25-27 +/- ไม่เกิน 1-2 วัน "
   ]
  },
  {
   "cell_type": "code",
   "execution_count": 15,
   "id": "e7a755e5-bc85-48ed-996a-5ef0250d85ee",
   "metadata": {
    "tags": []
   },
   "outputs": [
    {
     "data": {
      "text/plain": [
       "August 5, 2023    1\n",
       "Name: Date, dtype: int64"
      ]
     },
     "execution_count": 15,
     "metadata": {},
     "output_type": "execute_result"
    }
   ],
   "source": [
    "import pandas as pd\n",
    "\n",
    "# Concatenate the dataframes in data_frames_p\n",
    "combined_df = pd.concat(data_frames_p)\n",
    "\n",
    "# Find the date(s) with the highest total sales\n",
    "highest_sales_dates = combined_df[combined_df['Total Sales'] == combined_df['Total Sales'].max()]['Date']\n",
    "\n",
    "# Calculate the frequency of the date(s) with the highest total sales\n",
    "frequency = highest_sales_dates.value_counts()\n",
    "\n",
    "#the frequency with which a date has the highest total sales across multiple dataframes \n",
    "# Display the frequency\n",
    "frequency\n"
   ]
  },
  {
   "cell_type": "markdown",
   "id": "c0a6e01a-3abf-4755-a52c-1654b8817e2c",
   "metadata": {
    "tags": []
   },
   "source": [
    "## Scatter plot show relationship between day and total sale of the day across 3 months"
   ]
  },
  {
   "cell_type": "code",
   "execution_count": 18,
   "id": "913f5b1d-bc63-43e4-b60f-41d60d293a4d",
   "metadata": {
    "tags": []
   },
   "outputs": [
    {
     "name": "stderr",
     "output_type": "stream",
     "text": [
      "/home/jupyterlab/conda/envs/python/lib/python3.7/site-packages/ipykernel_launcher.py:16: SettingWithCopyWarning: \n",
      "A value is trying to be set on a copy of a slice from a DataFrame.\n",
      "Try using .loc[row_indexer,col_indexer] = value instead\n",
      "\n",
      "See the caveats in the documentation: https://pandas.pydata.org/pandas-docs/stable/user_guide/indexing.html#returning-a-view-versus-a-copy\n",
      "  \n",
      "/home/jupyterlab/conda/envs/python/lib/python3.7/site-packages/ipykernel_launcher.py:21: SettingWithCopyWarning: \n",
      "A value is trying to be set on a copy of a slice from a DataFrame.\n",
      "Try using .loc[row_indexer,col_indexer] = value instead\n",
      "\n",
      "See the caveats in the documentation: https://pandas.pydata.org/pandas-docs/stable/user_guide/indexing.html#returning-a-view-versus-a-copy\n"
     ]
    },
    {
     "data": {
      "image/png": "[encoded data removed]",
      "text/plain": [
       "<Figure size 1000x600 with 1 Axes>"
      ]
     },
     "metadata": {},
     "output_type": "display_data"
    }
   ],
   "source": [
    "import pandas as pd\n",
    "import matplotlib.pyplot as plt\n",
    "\n",
    "# Concatenate the dataframes\n",
    "data_frames_p = [df_julyp, df_augustp, df_sepp]\n",
    "combined_df = pd.concat(data_frames_p)\n",
    "\n",
    "# Convert the 'Date' column to datetime type\n",
    "combined_df['Date'] = pd.to_datetime(combined_df['Date'])\n",
    "\n",
    "# Create a scatter plot to differentiate total sales\n",
    "plt.figure(figsize=(10, 6))\n",
    "\n",
    "# Filter data for sales below 10,000\n",
    "below_10000 = combined_df[combined_df['Total Sales'] < 10000]\n",
    "below_10000['Day'] = below_10000['Date'].dt.day  # Extract the day of the month\n",
    "plt.scatter(below_10000['Day'], below_10000['Total Sales'], label='Sales Below 10,000', color='blue')\n",
    "\n",
    "# Filter data for sales exceeding 15,000\n",
    "exceed_10000 = combined_df[combined_df['Total Sales'] > 10000]\n",
    "exceed_10000['Day'] = exceed_10000['Date'].dt.day  # Extract the day of the month\n",
    "plt.scatter(exceed_10000['Day'], exceed_10000['Total Sales'], label='Sales Exceeding 10,000', color='red')\n",
    "\n",
    "plt.xlabel('Day of the Month')\n",
    "plt.ylabel('Total Sales')\n",
    "plt.title('Prompong: Scatter Plot of Total Sales')\n",
    "plt.legend()\n",
    "plt.grid(True)\n",
    "\n",
    "# Display the plot\n",
    "plt.show()"
   ]
  },
  {
   "cell_type": "code",
   "execution_count": null,
   "id": "7a322135-0de6-4853-8e49-d9d4a48bd092",
   "metadata": {},
   "outputs": [],
   "source": []
  }
 ],
 "metadata": {
  "kernelspec": {
   "display_name": "Python",
   "language": "python",
   "name": "conda-env-python-py"
  },
  "language_info": {
   "codemirror_mode": {
    "name": "ipython",
    "version": 3
   },
   "file_extension": ".py",
   "mimetype": "text/x-python",
   "name": "python",
   "nbconvert_exporter": "python",
   "pygments_lexer": "ipython3",
   "version": "3.7.12"
  }
 },
 "nbformat": 4,
 "nbformat_minor": 5
}
